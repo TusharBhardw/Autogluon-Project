{
  "nbformat": 4,
  "nbformat_minor": 0,
  "metadata": {
    "colab": {
      "provenance": []
    },
    "kernelspec": {
      "name": "python3",
      "display_name": "Python 3"
    },
    "language_info": {
      "name": "python"
    }
  },
  "cells": [
    {
      "cell_type": "markdown",
      "source": [
        "REPORT\n"
      ],
      "metadata": {
        "id": "OPJ3m6Tofl8H"
      }
    },
    {
      "cell_type": "markdown",
      "source": [
        "What did you realize when you tried to submit your predictions? What changes were needed to the output of the predictor to submit your results?\n",
        "\n",
        "I realized that in this model the predictions need to be in a specific format to submit the results. When I tried to submit the predictions, I realized that the output of the predictor needs to be in the form of a DataFrame with the following columns:\n",
        "\n",
        "datetime: representing the date and time of each prediction.\n",
        "count: the predicted count of bike sharing demand for each datetime.\n",
        "To prepare the predictions for submission,I use the predict method of the TabularPredictor to generate the predictions and then create a DataFrame with the required columns.\n",
        "\n",
        "To prepare the output of the predictor for submission, the following changes were needed:\n",
        "\n",
        "The output needed to be in the form of a DataFrame with two columns: datetime and count.\n",
        "The datetime column should represent the date and time of each prediction.\n",
        "The count column should contain the predicted count of bike sharing demand for each datetime.\n"
      ],
      "metadata": {
        "id": "Apz-t3gDwBfc"
      }
    },
    {
      "cell_type": "markdown",
      "source": [
        "What was the top ranked model that performed?\n",
        "\n",
        "The top ranked model that performed is Weighted Ensemble_L3"
      ],
      "metadata": {
        "id": "yd9lgraqxXHN"
      }
    },
    {
      "cell_type": "markdown",
      "source": [
        "What did the exploratory analysis find and how did you add additional features?\n",
        "\n",
        "The exploratory analysis find that I had to convert some columns from dtype'int' to 'category' so that AutoGluon will classifies these as categories instead of int.\n",
        "\n",
        "By exploratory analysis I find that seperate out datetime into hours or date parts will help us in improving our model.\n",
        "So, I add additional feature by creating a column of hours of the day\n"
      ],
      "metadata": {
        "id": "KpMX8K40yTvw"
      }
    },
    {
      "cell_type": "markdown",
      "source": [
        "How much better did your model preform after adding additional features and why do you think that is?\n",
        "\n",
        "My model perform much better after adding additional features to that as score changes from 0.914135 to 0.972012.\n",
        "\n",
        "I think that the more information about data we have it helps autogluon to perform better\n",
        "\n"
      ],
      "metadata": {
        "id": "TUzt0tRw0zGW"
      }
    },
    {
      "cell_type": "markdown",
      "source": [
        "How much better did your model preform after trying different hyper parameters?\n",
        "\n",
        "My model perform much better after adding hyperparameters as score changes from 0.972012 to 0.983011"
      ],
      "metadata": {
        "id": "rBLYkpcp2Bkw"
      }
    },
    {
      "cell_type": "markdown",
      "source": [
        "If you were given more time with this dataset, where do you think you would spend more time?\n",
        "\n",
        "if i had to give more time to this dataset. I spend times on two sections, first on more exploratory analysis and majorly on trying different new hyperparameters to do score more and more better"
      ],
      "metadata": {
        "id": "Hq8HwSgG2zYI"
      }
    }
  ]
}